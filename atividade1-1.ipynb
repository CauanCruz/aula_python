{
 "cells": [
  {
   "cell_type": "code",
   "execution_count": 3,
   "id": "1049029d",
   "metadata": {},
   "outputs": [],
   "source": [
    "#atividade 1"
   ]
  },
  {
   "cell_type": "code",
   "execution_count": 3,
   "id": "a77580fe",
   "metadata": {},
   "outputs": [
    {
     "data": {
      "text/plain": [
       "5.206896551724138"
      ]
     },
     "execution_count": 3,
     "metadata": {},
     "output_type": "execute_result"
    }
   ],
   "source": [
    "(5*(10-4)**2) / (3**3 + 2) - 1"
   ]
  },
  {
   "cell_type": "code",
   "execution_count": null,
   "id": "fb7e9ddb",
   "metadata": {},
   "outputs": [],
   "source": [
    "#atividade 2 - pontos A(2,3) B(8,11)"
   ]
  },
  {
   "cell_type": "code",
   "execution_count": 1,
   "id": "60dfe0b2",
   "metadata": {},
   "outputs": [
    {
     "data": {
      "text/plain": [
       "10.0"
      ]
     },
     "execution_count": 1,
     "metadata": {},
     "output_type": "execute_result"
    }
   ],
   "source": [
    "\n",
    "import math\n",
    "math.sqrt((8 - 2)**2 + (11 - 3)**2)"
   ]
  },
  {
   "cell_type": "code",
   "execution_count": 2,
   "id": "ce424353",
   "metadata": {},
   "outputs": [],
   "source": [
    "#atividade 3 - nota1 - 7(peso 3), nota2 - 8.5 (peso 5), nota3 - 6 ( peso 2)"
   ]
  },
  {
   "cell_type": "code",
   "execution_count": 20,
   "id": "89354cd0",
   "metadata": {},
   "outputs": [
    {
     "data": {
      "text/plain": [
       "7.55"
      ]
     },
     "execution_count": 20,
     "metadata": {},
     "output_type": "execute_result"
    }
   ],
   "source": [
    "(7 * 3 + 8.5 * 5 + 6 * 2)/ 10"
   ]
  }
 ],
 "metadata": {
  "kernelspec": {
   "display_name": "Python 3",
   "language": "python",
   "name": "python3"
  },
  "language_info": {
   "codemirror_mode": {
    "name": "ipython",
    "version": 3
   },
   "file_extension": ".py",
   "mimetype": "text/x-python",
   "name": "python",
   "nbconvert_exporter": "python",
   "pygments_lexer": "ipython3",
   "version": "3.12.1"
  }
 },
 "nbformat": 4,
 "nbformat_minor": 5
}
